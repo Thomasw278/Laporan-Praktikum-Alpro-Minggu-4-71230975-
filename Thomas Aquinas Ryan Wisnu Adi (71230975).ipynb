{
 "cells": [
  {
   "cell_type": "code",
   "execution_count": null,
   "id": "89d9391d",
   "metadata": {},
   "outputs": [],
   "source": [
    "def cek_angka(a,b,c):\n",
    "    if a + b == c or b + c == a or c + a == b:\n",
    "        return (\"True\")\n",
    "    elif a == c or c == b or b == a:\n",
    "        return (\"False\")\n",
    "    else:\n",
    "        return (\"False\")"
   ]
  },
  {
   "cell_type": "code",
   "execution_count": null,
   "id": "ffdfde0f",
   "metadata": {},
   "outputs": [],
   "source": [
    "def cek_digit_belakang(a,b,c):\n",
    "    nilaia = a % 10\n",
    "    nilaib = b % 10\n",
    "    nilaic = c % 10\n",
    "    \n",
    "    if nilaia == nilaib == nilaic:\n",
    "        return (\"True\")\n",
    "    elif nilaia == nilaib or nilaib == nilaic or nilaia == nilaic:\n",
    "        return (\"True\")\n",
    "    elif nilaia != nilaib != nilaic:\n",
    "        return(\"False\")\n",
    "\n",
    "#Input\n",
    "inputa = int(input(\"Masukkan Nilai A: \"))\n",
    "inputb = int(input(\"Masukkan Nilai B: \"))\n",
    "inputc = int(input(\"Masukkan Nilai C: \"))\n",
    "\n",
    "#Memanggilkan Fungsi:\n",
    "hasil = cek_digit_belakang(inputa,inputb,inputc)\n",
    "print(hasil)"
   ]
  },
  {
   "cell_type": "code",
   "execution_count": null,
   "id": "fc0c2be1",
   "metadata": {},
   "outputs": [],
   "source": [
    "Celcius_to_Fahrenheit = lambda C: (9/5) * C + 32\n",
    "Celcius_to_Reamur = lambda C: 0.8 * C"
   ]
  }
 ],
 "metadata": {
  "kernelspec": {
   "display_name": "Python 3 (ipykernel)",
   "language": "python",
   "name": "python3"
  },
  "language_info": {
   "codemirror_mode": {
    "name": "ipython",
    "version": 3
   },
   "file_extension": ".py",
   "mimetype": "text/x-python",
   "name": "python",
   "nbconvert_exporter": "python",
   "pygments_lexer": "ipython3",
   "version": "3.11.5"
  }
 },
 "nbformat": 4,
 "nbformat_minor": 5
}
